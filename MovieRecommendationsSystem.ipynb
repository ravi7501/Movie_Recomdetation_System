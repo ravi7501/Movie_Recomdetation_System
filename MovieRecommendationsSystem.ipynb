{
 "cells": [
  {
   "cell_type": "markdown",
   "metadata": {},
   "source": [
    "#  <span style=\"color:red\">**Movie Recommendation System**</span>"
   ]
  },
  {
   "cell_type": "markdown",
   "metadata": {},
   "source": [
    "## Dataset: [The Indian Movie Database](https://www.kaggle.com/pncnmnp/the-indian-movie-database?select=collaborative)"
   ]
  },
  {
   "cell_type": "markdown",
   "metadata": {},
   "source": [
    "## <span style=\"color:blue\">*Importing library*</span>"
   ]
  },
  {
   "cell_type": "markdown",
   "metadata": {},
   "source": [
    "##### numpy : A library used to manipulate multi-dimensional data in the form of numpy arrays with useful in-built functions.\n",
    "##### pandas : An open source library used for data manipulation, cleaning, analysis and visualization.\n",
    "##### matplotlib : A library used for plotting and visualization of data.\n",
    "##### seaborn : A library based on matplotlib which is used for plotting of data.\n",
    "##### tikinter:A library used to making interface"
   ]
  },
  {
   "cell_type": "code",
   "execution_count": 1,
   "metadata": {},
   "outputs": [],
   "source": [
    "# importing all librarys\n",
    "import numpy as np\n",
    "import pandas as pd\n",
    "import matplotlib.pyplot as plt\n",
    "import seaborn as sns\n",
    "import tkinter as tk\n",
    "\n"
   ]
  },
  {
   "cell_type": "markdown",
   "metadata": {},
   "source": [
    "### Read the data from the The indian movie dataset using the read_csv() function from the pandas library."
   ]
  },
  {
   "cell_type": "code",
   "execution_count": 19,
   "metadata": {},
   "outputs": [],
   "source": [
    "df=pd.read_csv(\"collaborative/movie_rating.csv\",encoding='utf-8')\n",
    "mv=pd.read_csv(\"collaborative/titles.csv\",encoding='utf-8')"
   ]
  },
  {
   "cell_type": "markdown",
   "metadata": {},
   "source": [
    "### Showing shapes of  both file"
   ]
  },
  {
   "cell_type": "code",
   "execution_count": 20,
   "metadata": {},
   "outputs": [
    {
     "name": "stdout",
     "output_type": "stream",
     "text": [
      "(17604, 4)\n",
      "(788, 2)\n"
     ]
    }
   ],
   "source": [
    "print(df.shape)\n",
    "print(mv.shape)"
   ]
  },
  {
   "cell_type": "markdown",
   "metadata": {},
   "source": [
    "### Showing top 5 rows of both data frame"
   ]
  },
  {
   "cell_type": "code",
   "execution_count": 21,
   "metadata": {},
   "outputs": [
    {
     "name": "stdout",
     "output_type": "stream",
     "text": [
      "   user_id  movie_id  rating   timestamp\n",
      "0      172     94969     5.0  1396067836\n",
      "1      172     98956     4.0  1396067879\n",
      "2      176     73881     4.0  1499807147\n",
      "3      221      1900     4.5  1288550866\n",
      "4      333     33688     4.0  1412015122\n",
      "   movie_id                                              title\n",
      "0       139                                      Target (1995)\n",
      "1       568                          Bhaji on the Beach (1993)\n",
      "2      1900  Children of Heaven  The (Bacheha-Ye Aseman) (1...\n",
      "3      2284                                Bandit Queen (1994)\n",
      "4      5985                    Asoka (Ashoka the Great) (2001)\n"
     ]
    }
   ],
   "source": [
    "print(df.head(5))\n",
    "print(mv.head(5))"
   ]
  },
  {
   "cell_type": "code",
   "execution_count": 25,
   "metadata": {},
   "outputs": [
    {
     "data": {
      "text/html": [
       "<div>\n",
       "<style scoped>\n",
       "    .dataframe tbody tr th:only-of-type {\n",
       "        vertical-align: middle;\n",
       "    }\n",
       "\n",
       "    .dataframe tbody tr th {\n",
       "        vertical-align: top;\n",
       "    }\n",
       "\n",
       "    .dataframe thead th {\n",
       "        text-align: right;\n",
       "    }\n",
       "</style>\n",
       "<table border=\"1\" class=\"dataframe\">\n",
       "  <thead>\n",
       "    <tr style=\"text-align: right;\">\n",
       "      <th></th>\n",
       "      <th>user_id</th>\n",
       "      <th>movie_id</th>\n",
       "      <th>rating</th>\n",
       "    </tr>\n",
       "  </thead>\n",
       "  <tbody>\n",
       "    <tr>\n",
       "      <th>0</th>\n",
       "      <td>172</td>\n",
       "      <td>94969</td>\n",
       "      <td>5.0</td>\n",
       "    </tr>\n",
       "    <tr>\n",
       "      <th>1</th>\n",
       "      <td>172</td>\n",
       "      <td>98956</td>\n",
       "      <td>4.0</td>\n",
       "    </tr>\n",
       "    <tr>\n",
       "      <th>2</th>\n",
       "      <td>176</td>\n",
       "      <td>73881</td>\n",
       "      <td>4.0</td>\n",
       "    </tr>\n",
       "    <tr>\n",
       "      <th>3</th>\n",
       "      <td>221</td>\n",
       "      <td>1900</td>\n",
       "      <td>4.5</td>\n",
       "    </tr>\n",
       "    <tr>\n",
       "      <th>4</th>\n",
       "      <td>333</td>\n",
       "      <td>33688</td>\n",
       "      <td>4.0</td>\n",
       "    </tr>\n",
       "  </tbody>\n",
       "</table>\n",
       "</div>"
      ],
      "text/plain": [
       "   user_id  movie_id  rating\n",
       "0      172     94969     5.0\n",
       "1      172     98956     4.0\n",
       "2      176     73881     4.0\n",
       "3      221      1900     4.5\n",
       "4      333     33688     4.0"
      ]
     },
     "execution_count": 25,
     "metadata": {},
     "output_type": "execute_result"
    }
   ],
   "source": [
    "df.head()"
   ]
  },
  {
   "cell_type": "markdown",
   "metadata": {},
   "source": [
    "### Elemenating Unwanted coloumn"
   ]
  },
  {
   "cell_type": "code",
   "execution_count": 26,
   "metadata": {},
   "outputs": [],
   "source": [
    "df=df[[\"user_id\",\"movie_id\",\"rating\"]]"
   ]
  },
  {
   "cell_type": "code",
   "execution_count": 27,
   "metadata": {},
   "outputs": [
    {
     "data": {
      "text/html": [
       "<div>\n",
       "<style scoped>\n",
       "    .dataframe tbody tr th:only-of-type {\n",
       "        vertical-align: middle;\n",
       "    }\n",
       "\n",
       "    .dataframe tbody tr th {\n",
       "        vertical-align: top;\n",
       "    }\n",
       "\n",
       "    .dataframe thead th {\n",
       "        text-align: right;\n",
       "    }\n",
       "</style>\n",
       "<table border=\"1\" class=\"dataframe\">\n",
       "  <thead>\n",
       "    <tr style=\"text-align: right;\">\n",
       "      <th></th>\n",
       "      <th>user_id</th>\n",
       "      <th>movie_id</th>\n",
       "      <th>rating</th>\n",
       "    </tr>\n",
       "  </thead>\n",
       "  <tbody>\n",
       "    <tr>\n",
       "      <th>0</th>\n",
       "      <td>172</td>\n",
       "      <td>94969</td>\n",
       "      <td>5.0</td>\n",
       "    </tr>\n",
       "    <tr>\n",
       "      <th>1</th>\n",
       "      <td>172</td>\n",
       "      <td>98956</td>\n",
       "      <td>4.0</td>\n",
       "    </tr>\n",
       "    <tr>\n",
       "      <th>2</th>\n",
       "      <td>176</td>\n",
       "      <td>73881</td>\n",
       "      <td>4.0</td>\n",
       "    </tr>\n",
       "    <tr>\n",
       "      <th>3</th>\n",
       "      <td>221</td>\n",
       "      <td>1900</td>\n",
       "      <td>4.5</td>\n",
       "    </tr>\n",
       "    <tr>\n",
       "      <th>4</th>\n",
       "      <td>333</td>\n",
       "      <td>33688</td>\n",
       "      <td>4.0</td>\n",
       "    </tr>\n",
       "  </tbody>\n",
       "</table>\n",
       "</div>"
      ],
      "text/plain": [
       "   user_id  movie_id  rating\n",
       "0      172     94969     5.0\n",
       "1      172     98956     4.0\n",
       "2      176     73881     4.0\n",
       "3      221      1900     4.5\n",
       "4      333     33688     4.0"
      ]
     },
     "execution_count": 27,
     "metadata": {},
     "output_type": "execute_result"
    }
   ],
   "source": [
    "df.head(5)"
   ]
  },
  {
   "cell_type": "markdown",
   "metadata": {},
   "source": [
    "### Checking unique user and movie name"
   ]
  },
  {
   "cell_type": "code",
   "execution_count": 28,
   "metadata": {},
   "outputs": [
    {
     "name": "stdout",
     "output_type": "stream",
     "text": [
      "5667\n",
      "779\n"
     ]
    }
   ],
   "source": [
    "print(df[\"user_id\"].nunique())\n",
    "print(df[\"movie_id\"].nunique())"
   ]
  },
  {
   "cell_type": "markdown",
   "metadata": {},
   "source": [
    "## Merging Two data frame df and mv using pandas merge  funcation on movieId"
   ]
  },
  {
   "cell_type": "code",
   "execution_count": 29,
   "metadata": {},
   "outputs": [
    {
     "data": {
      "text/plain": [
       "(17604, 4)"
      ]
     },
     "execution_count": 29,
     "metadata": {},
     "output_type": "execute_result"
    }
   ],
   "source": [
    "df=pd.merge(df,mv,on=\"movie_id\")\n",
    "df.shape"
   ]
  },
  {
   "cell_type": "code",
   "execution_count": 30,
   "metadata": {},
   "outputs": [
    {
     "data": {
      "text/plain": [
       "user_id       int64\n",
       "movie_id      int64\n",
       "rating      float64\n",
       "title        object\n",
       "dtype: object"
      ]
     },
     "execution_count": 30,
     "metadata": {},
     "output_type": "execute_result"
    }
   ],
   "source": [
    "df.dtypes # printing heading"
   ]
  },
  {
   "cell_type": "markdown",
   "metadata": {},
   "source": [
    "###  Checking merge data frame"
   ]
  },
  {
   "cell_type": "code",
   "execution_count": 31,
   "metadata": {},
   "outputs": [
    {
     "data": {
      "text/html": [
       "<div>\n",
       "<style scoped>\n",
       "    .dataframe tbody tr th:only-of-type {\n",
       "        vertical-align: middle;\n",
       "    }\n",
       "\n",
       "    .dataframe tbody tr th {\n",
       "        vertical-align: top;\n",
       "    }\n",
       "\n",
       "    .dataframe thead th {\n",
       "        text-align: right;\n",
       "    }\n",
       "</style>\n",
       "<table border=\"1\" class=\"dataframe\">\n",
       "  <thead>\n",
       "    <tr style=\"text-align: right;\">\n",
       "      <th></th>\n",
       "      <th>user_id</th>\n",
       "      <th>movie_id</th>\n",
       "      <th>rating</th>\n",
       "      <th>title</th>\n",
       "    </tr>\n",
       "  </thead>\n",
       "  <tbody>\n",
       "    <tr>\n",
       "      <th>0</th>\n",
       "      <td>172</td>\n",
       "      <td>94969</td>\n",
       "      <td>5.0</td>\n",
       "      <td>Kahaani (2012)</td>\n",
       "    </tr>\n",
       "    <tr>\n",
       "      <th>1</th>\n",
       "      <td>2419</td>\n",
       "      <td>94969</td>\n",
       "      <td>3.0</td>\n",
       "      <td>Kahaani (2012)</td>\n",
       "    </tr>\n",
       "    <tr>\n",
       "      <th>2</th>\n",
       "      <td>9168</td>\n",
       "      <td>94969</td>\n",
       "      <td>1.0</td>\n",
       "      <td>Kahaani (2012)</td>\n",
       "    </tr>\n",
       "    <tr>\n",
       "      <th>3</th>\n",
       "      <td>9303</td>\n",
       "      <td>94969</td>\n",
       "      <td>3.0</td>\n",
       "      <td>Kahaani (2012)</td>\n",
       "    </tr>\n",
       "    <tr>\n",
       "      <th>4</th>\n",
       "      <td>9535</td>\n",
       "      <td>94969</td>\n",
       "      <td>4.0</td>\n",
       "      <td>Kahaani (2012)</td>\n",
       "    </tr>\n",
       "  </tbody>\n",
       "</table>\n",
       "</div>"
      ],
      "text/plain": [
       "   user_id  movie_id  rating           title\n",
       "0      172     94969     5.0  Kahaani (2012)\n",
       "1     2419     94969     3.0  Kahaani (2012)\n",
       "2     9168     94969     1.0  Kahaani (2012)\n",
       "3     9303     94969     3.0  Kahaani (2012)\n",
       "4     9535     94969     4.0  Kahaani (2012)"
      ]
     },
     "execution_count": 31,
     "metadata": {},
     "output_type": "execute_result"
    }
   ],
   "source": [
    "df.head(5)"
   ]
  },
  {
   "cell_type": "code",
   "execution_count": 32,
   "metadata": {},
   "outputs": [
    {
     "data": {
      "text/html": [
       "<div>\n",
       "<style scoped>\n",
       "    .dataframe tbody tr th:only-of-type {\n",
       "        vertical-align: middle;\n",
       "    }\n",
       "\n",
       "    .dataframe tbody tr th {\n",
       "        vertical-align: top;\n",
       "    }\n",
       "\n",
       "    .dataframe thead th {\n",
       "        text-align: right;\n",
       "    }\n",
       "</style>\n",
       "<table border=\"1\" class=\"dataframe\">\n",
       "  <thead>\n",
       "    <tr style=\"text-align: right;\">\n",
       "      <th></th>\n",
       "      <th>user_id</th>\n",
       "      <th>movie_id</th>\n",
       "      <th>rating</th>\n",
       "      <th>title</th>\n",
       "    </tr>\n",
       "  </thead>\n",
       "  <tbody>\n",
       "    <tr>\n",
       "      <th>17599</th>\n",
       "      <td>263047</td>\n",
       "      <td>176249</td>\n",
       "      <td>3.5</td>\n",
       "      <td>Mom (2017)</td>\n",
       "    </tr>\n",
       "    <tr>\n",
       "      <th>17600</th>\n",
       "      <td>272748</td>\n",
       "      <td>176249</td>\n",
       "      <td>3.5</td>\n",
       "      <td>Mom (2017)</td>\n",
       "    </tr>\n",
       "    <tr>\n",
       "      <th>17601</th>\n",
       "      <td>271060</td>\n",
       "      <td>192515</td>\n",
       "      <td>4.5</td>\n",
       "      <td>Ramaiya Vastavaiya (2013)</td>\n",
       "    </tr>\n",
       "    <tr>\n",
       "      <th>17602</th>\n",
       "      <td>271113</td>\n",
       "      <td>186637</td>\n",
       "      <td>2.0</td>\n",
       "      <td>Bobby Jasoos (2014)</td>\n",
       "    </tr>\n",
       "    <tr>\n",
       "      <th>17603</th>\n",
       "      <td>280887</td>\n",
       "      <td>164443</td>\n",
       "      <td>1.0</td>\n",
       "      <td>Freaky Ali (2016)</td>\n",
       "    </tr>\n",
       "  </tbody>\n",
       "</table>\n",
       "</div>"
      ],
      "text/plain": [
       "       user_id  movie_id  rating                      title\n",
       "17599   263047    176249     3.5                 Mom (2017)\n",
       "17600   272748    176249     3.5                 Mom (2017)\n",
       "17601   271060    192515     4.5  Ramaiya Vastavaiya (2013)\n",
       "17602   271113    186637     2.0        Bobby Jasoos (2014)\n",
       "17603   280887    164443     1.0          Freaky Ali (2016)"
      ]
     },
     "execution_count": 32,
     "metadata": {},
     "output_type": "execute_result"
    }
   ],
   "source": [
    "df.tail(5)"
   ]
  },
  {
   "cell_type": "markdown",
   "metadata": {},
   "source": [
    "### merging data frame  susscesful"
   ]
  },
  {
   "cell_type": "markdown",
   "metadata": {},
   "source": [
    "# Exploratory data analysis"
   ]
  },
  {
   "cell_type": "markdown",
   "metadata": {},
   "source": [
    "## Getting avg rating's of the movies in separate coloumn"
   ]
  },
  {
   "cell_type": "code",
   "execution_count": 33,
   "metadata": {},
   "outputs": [
    {
     "data": {
      "text/plain": [
       "title\n",
       "Shor in the City (2011)             5.00\n",
       "Hooligan (1998)                     5.00\n",
       "Humpty Sharma Ki Dulhania (2014)    5.00\n",
       "Samay: When Time Strikes (2003)     5.00\n",
       "Hichki (2018)                       4.75\n",
       "                                    ... \n",
       "Chura Liyaa Hai Tumne (2003)        0.50\n",
       "Bhoot Unkle (2006)                  0.50\n",
       "Bhai (1997)                         0.50\n",
       "Baaghi 2 (2018)                     0.50\n",
       "road (2002)                         0.50\n",
       "Name: rating, Length: 779, dtype: float64"
      ]
     },
     "execution_count": 33,
     "metadata": {},
     "output_type": "execute_result"
    }
   ],
   "source": [
    "df.groupby('title').mean()['rating'].sort_values(ascending=False)"
   ]
  },
  {
   "cell_type": "markdown",
   "metadata": {},
   "source": [
    "## Getting numbers of people rated the movies in separate coloumn"
   ]
  },
  {
   "cell_type": "code",
   "execution_count": 34,
   "metadata": {},
   "outputs": [
    {
     "data": {
      "text/plain": [
       "title\n",
       "3 Idiots (2009)                                       1394\n",
       "Children of Heaven  The (Bacheha-Ye Aseman) (1997)     900\n",
       "Namesake  The (2006)                                   581\n",
       "Bhaji on the Beach (1993)                              396\n",
       "PK (2014)                                              392\n",
       "                                                      ... \n",
       "Hum To Mohabbat Karega (2000)                            1\n",
       "Householder  The (Gharbar) (1963)                        1\n",
       "Hotel Salvation (2016)                                   1\n",
       "Holi (1985)                                              1\n",
       "100 Days (1991)                                          1\n",
       "Name: rating, Length: 779, dtype: int64"
      ]
     },
     "execution_count": 34,
     "metadata": {},
     "output_type": "execute_result"
    }
   ],
   "source": [
    "df.groupby('title').count()['rating'].sort_values(ascending=False)"
   ]
  },
  {
   "cell_type": "code",
   "execution_count": 38,
   "metadata": {},
   "outputs": [
    {
     "data": {
      "text/html": [
       "<div>\n",
       "<style scoped>\n",
       "    .dataframe tbody tr th:only-of-type {\n",
       "        vertical-align: middle;\n",
       "    }\n",
       "\n",
       "    .dataframe tbody tr th {\n",
       "        vertical-align: top;\n",
       "    }\n",
       "\n",
       "    .dataframe thead th {\n",
       "        text-align: right;\n",
       "    }\n",
       "</style>\n",
       "<table border=\"1\" class=\"dataframe\">\n",
       "  <thead>\n",
       "    <tr style=\"text-align: right;\">\n",
       "      <th></th>\n",
       "      <th>rating</th>\n",
       "    </tr>\n",
       "    <tr>\n",
       "      <th>title</th>\n",
       "      <th></th>\n",
       "    </tr>\n",
       "  </thead>\n",
       "  <tbody>\n",
       "    <tr>\n",
       "      <th>100 Days (1991)</th>\n",
       "      <td>1.000</td>\n",
       "    </tr>\n",
       "    <tr>\n",
       "      <th>1920 (2008)</th>\n",
       "      <td>3.000</td>\n",
       "    </tr>\n",
       "    <tr>\n",
       "      <th>1920: Evil Returns (2012)</th>\n",
       "      <td>2.000</td>\n",
       "    </tr>\n",
       "    <tr>\n",
       "      <th>1942: A Love Story (1994)</th>\n",
       "      <td>2.500</td>\n",
       "    </tr>\n",
       "    <tr>\n",
       "      <th>2 States (2014)</th>\n",
       "      <td>3.125</td>\n",
       "    </tr>\n",
       "  </tbody>\n",
       "</table>\n",
       "</div>"
      ],
      "text/plain": [
       "                           rating\n",
       "title                            \n",
       "100 Days (1991)             1.000\n",
       "1920 (2008)                 3.000\n",
       "1920: Evil Returns (2012)   2.000\n",
       "1942: A Love Story (1994)   2.500\n",
       "2 States (2014)             3.125"
      ]
     },
     "execution_count": 38,
     "metadata": {},
     "output_type": "execute_result"
    }
   ],
   "source": [
    "av_rating=df.groupby('title').mean()['rating']\n",
    "movie_rating=pd.DataFrame(av_rating)\n",
    "movie_rating.head()"
   ]
  },
  {
   "cell_type": "code",
   "execution_count": 41,
   "metadata": {},
   "outputs": [
    {
     "data": {
      "text/html": [
       "<div>\n",
       "<style scoped>\n",
       "    .dataframe tbody tr th:only-of-type {\n",
       "        vertical-align: middle;\n",
       "    }\n",
       "\n",
       "    .dataframe tbody tr th {\n",
       "        vertical-align: top;\n",
       "    }\n",
       "\n",
       "    .dataframe thead th {\n",
       "        text-align: right;\n",
       "    }\n",
       "</style>\n",
       "<table border=\"1\" class=\"dataframe\">\n",
       "  <thead>\n",
       "    <tr style=\"text-align: right;\">\n",
       "      <th></th>\n",
       "      <th>rating</th>\n",
       "      <th>num of people rated</th>\n",
       "    </tr>\n",
       "    <tr>\n",
       "      <th>title</th>\n",
       "      <th></th>\n",
       "      <th></th>\n",
       "    </tr>\n",
       "  </thead>\n",
       "  <tbody>\n",
       "    <tr>\n",
       "      <th>100 Days (1991)</th>\n",
       "      <td>1.000</td>\n",
       "      <td>1</td>\n",
       "    </tr>\n",
       "    <tr>\n",
       "      <th>1920 (2008)</th>\n",
       "      <td>3.000</td>\n",
       "      <td>10</td>\n",
       "    </tr>\n",
       "    <tr>\n",
       "      <th>1920: Evil Returns (2012)</th>\n",
       "      <td>2.000</td>\n",
       "      <td>5</td>\n",
       "    </tr>\n",
       "    <tr>\n",
       "      <th>1942: A Love Story (1994)</th>\n",
       "      <td>2.500</td>\n",
       "      <td>5</td>\n",
       "    </tr>\n",
       "    <tr>\n",
       "      <th>2 States (2014)</th>\n",
       "      <td>3.125</td>\n",
       "      <td>16</td>\n",
       "    </tr>\n",
       "  </tbody>\n",
       "</table>\n",
       "</div>"
      ],
      "text/plain": [
       "                           rating  num of people rated\n",
       "title                                                 \n",
       "100 Days (1991)             1.000                    1\n",
       "1920 (2008)                 3.000                   10\n",
       "1920: Evil Returns (2012)   2.000                    5\n",
       "1942: A Love Story (1994)   2.500                    5\n",
       "2 States (2014)             3.125                   16"
      ]
     },
     "execution_count": 41,
     "metadata": {},
     "output_type": "execute_result"
    }
   ],
   "source": [
    "movie_rating['num of people rated']=pd.DataFrame(df.groupby('title').count()['rating'])\n",
    "movie_rating.head()"
   ]
  },
  {
   "cell_type": "code",
   "execution_count": 42,
   "metadata": {},
   "outputs": [
    {
     "data": {
      "text/html": [
       "<div>\n",
       "<style scoped>\n",
       "    .dataframe tbody tr th:only-of-type {\n",
       "        vertical-align: middle;\n",
       "    }\n",
       "\n",
       "    .dataframe tbody tr th {\n",
       "        vertical-align: top;\n",
       "    }\n",
       "\n",
       "    .dataframe thead th {\n",
       "        text-align: right;\n",
       "    }\n",
       "</style>\n",
       "<table border=\"1\" class=\"dataframe\">\n",
       "  <thead>\n",
       "    <tr style=\"text-align: right;\">\n",
       "      <th></th>\n",
       "      <th>rating</th>\n",
       "      <th>num of people rated</th>\n",
       "    </tr>\n",
       "    <tr>\n",
       "      <th>title</th>\n",
       "      <th></th>\n",
       "      <th></th>\n",
       "    </tr>\n",
       "  </thead>\n",
       "  <tbody>\n",
       "    <tr>\n",
       "      <th>Shor in the City (2011)</th>\n",
       "      <td>5.00</td>\n",
       "      <td>1</td>\n",
       "    </tr>\n",
       "    <tr>\n",
       "      <th>Humpty Sharma Ki Dulhania (2014)</th>\n",
       "      <td>5.00</td>\n",
       "      <td>1</td>\n",
       "    </tr>\n",
       "    <tr>\n",
       "      <th>Hooligan (1998)</th>\n",
       "      <td>5.00</td>\n",
       "      <td>2</td>\n",
       "    </tr>\n",
       "    <tr>\n",
       "      <th>Samay: When Time Strikes (2003)</th>\n",
       "      <td>5.00</td>\n",
       "      <td>1</td>\n",
       "    </tr>\n",
       "    <tr>\n",
       "      <th>Death of a Doctor (1991)</th>\n",
       "      <td>4.75</td>\n",
       "      <td>2</td>\n",
       "    </tr>\n",
       "    <tr>\n",
       "      <th>...</th>\n",
       "      <td>...</td>\n",
       "      <td>...</td>\n",
       "    </tr>\n",
       "    <tr>\n",
       "      <th>The Train: Some Lines Shoulder Never Be Crossed... (2007)</th>\n",
       "      <td>0.50</td>\n",
       "      <td>2</td>\n",
       "    </tr>\n",
       "    <tr>\n",
       "      <th>Ghost (2012)</th>\n",
       "      <td>0.50</td>\n",
       "      <td>1</td>\n",
       "    </tr>\n",
       "    <tr>\n",
       "      <th>Hawa (2003)</th>\n",
       "      <td>0.50</td>\n",
       "      <td>1</td>\n",
       "    </tr>\n",
       "    <tr>\n",
       "      <th>Jaane Hoga Kya (2006)</th>\n",
       "      <td>0.50</td>\n",
       "      <td>1</td>\n",
       "    </tr>\n",
       "    <tr>\n",
       "      <th>road (2002)</th>\n",
       "      <td>0.50</td>\n",
       "      <td>1</td>\n",
       "    </tr>\n",
       "  </tbody>\n",
       "</table>\n",
       "<p>779 rows × 2 columns</p>\n",
       "</div>"
      ],
      "text/plain": [
       "                                                    rating  \\\n",
       "title                                                        \n",
       "Shor in the City (2011)                               5.00   \n",
       "Humpty Sharma Ki Dulhania (2014)                      5.00   \n",
       "Hooligan (1998)                                       5.00   \n",
       "Samay: When Time Strikes (2003)                       5.00   \n",
       "Death of a Doctor (1991)                              4.75   \n",
       "...                                                    ...   \n",
       "The Train: Some Lines Shoulder Never Be Crossed...    0.50   \n",
       "Ghost (2012)                                          0.50   \n",
       "Hawa (2003)                                           0.50   \n",
       "Jaane Hoga Kya (2006)                                 0.50   \n",
       "road (2002)                                           0.50   \n",
       "\n",
       "                                                    num of people rated  \n",
       "title                                                                    \n",
       "Shor in the City (2011)                                               1  \n",
       "Humpty Sharma Ki Dulhania (2014)                                      1  \n",
       "Hooligan (1998)                                                       2  \n",
       "Samay: When Time Strikes (2003)                                       1  \n",
       "Death of a Doctor (1991)                                              2  \n",
       "...                                                                 ...  \n",
       "The Train: Some Lines Shoulder Never Be Crossed...                    2  \n",
       "Ghost (2012)                                                          1  \n",
       "Hawa (2003)                                                           1  \n",
       "Jaane Hoga Kya (2006)                                                 1  \n",
       "road (2002)                                                           1  \n",
       "\n",
       "[779 rows x 2 columns]"
      ]
     },
     "execution_count": 42,
     "metadata": {},
     "output_type": "execute_result"
    }
   ],
   "source": [
    "movie_rating.sort_values(by=\"rating\",ascending=False)"
   ]
  },
  {
   "cell_type": "code",
   "execution_count": 43,
   "metadata": {},
   "outputs": [
    {
     "data": {
      "text/html": [
       "<div>\n",
       "<style scoped>\n",
       "    .dataframe tbody tr th:only-of-type {\n",
       "        vertical-align: middle;\n",
       "    }\n",
       "\n",
       "    .dataframe tbody tr th {\n",
       "        vertical-align: top;\n",
       "    }\n",
       "\n",
       "    .dataframe thead th {\n",
       "        text-align: right;\n",
       "    }\n",
       "</style>\n",
       "<table border=\"1\" class=\"dataframe\">\n",
       "  <thead>\n",
       "    <tr style=\"text-align: right;\">\n",
       "      <th></th>\n",
       "      <th>rating</th>\n",
       "      <th>num of people rated</th>\n",
       "    </tr>\n",
       "    <tr>\n",
       "      <th>title</th>\n",
       "      <th></th>\n",
       "      <th></th>\n",
       "    </tr>\n",
       "  </thead>\n",
       "  <tbody>\n",
       "    <tr>\n",
       "      <th>3 Idiots (2009)</th>\n",
       "      <td>3.928623</td>\n",
       "      <td>1394</td>\n",
       "    </tr>\n",
       "    <tr>\n",
       "      <th>Children of Heaven  The (Bacheha-Ye Aseman) (1997)</th>\n",
       "      <td>3.991667</td>\n",
       "      <td>900</td>\n",
       "    </tr>\n",
       "    <tr>\n",
       "      <th>Namesake  The (2006)</th>\n",
       "      <td>3.700516</td>\n",
       "      <td>581</td>\n",
       "    </tr>\n",
       "    <tr>\n",
       "      <th>Bhaji on the Beach (1993)</th>\n",
       "      <td>3.553030</td>\n",
       "      <td>396</td>\n",
       "    </tr>\n",
       "    <tr>\n",
       "      <th>PK (2014)</th>\n",
       "      <td>3.762755</td>\n",
       "      <td>392</td>\n",
       "    </tr>\n",
       "    <tr>\n",
       "      <th>...</th>\n",
       "      <td>...</td>\n",
       "      <td>...</td>\n",
       "    </tr>\n",
       "    <tr>\n",
       "      <th>Matrubhoomi (2003)</th>\n",
       "      <td>4.000000</td>\n",
       "      <td>1</td>\n",
       "    </tr>\n",
       "    <tr>\n",
       "      <th>Meri Pyaari Bindu (2017)</th>\n",
       "      <td>2.500000</td>\n",
       "      <td>1</td>\n",
       "    </tr>\n",
       "    <tr>\n",
       "      <th>Mirch (2010)</th>\n",
       "      <td>3.000000</td>\n",
       "      <td>1</td>\n",
       "    </tr>\n",
       "    <tr>\n",
       "      <th>Mr. X (2015)</th>\n",
       "      <td>4.000000</td>\n",
       "      <td>1</td>\n",
       "    </tr>\n",
       "    <tr>\n",
       "      <th>road (2002)</th>\n",
       "      <td>0.500000</td>\n",
       "      <td>1</td>\n",
       "    </tr>\n",
       "  </tbody>\n",
       "</table>\n",
       "<p>779 rows × 2 columns</p>\n",
       "</div>"
      ],
      "text/plain": [
       "                                                      rating  \\\n",
       "title                                                          \n",
       "3 Idiots (2009)                                     3.928623   \n",
       "Children of Heaven  The (Bacheha-Ye Aseman) (1997)  3.991667   \n",
       "Namesake  The (2006)                                3.700516   \n",
       "Bhaji on the Beach (1993)                           3.553030   \n",
       "PK (2014)                                           3.762755   \n",
       "...                                                      ...   \n",
       "Matrubhoomi (2003)                                  4.000000   \n",
       "Meri Pyaari Bindu (2017)                            2.500000   \n",
       "Mirch (2010)                                        3.000000   \n",
       "Mr. X (2015)                                        4.000000   \n",
       "road (2002)                                         0.500000   \n",
       "\n",
       "                                                    num of people rated  \n",
       "title                                                                    \n",
       "3 Idiots (2009)                                                    1394  \n",
       "Children of Heaven  The (Bacheha-Ye Aseman) (1997)                  900  \n",
       "Namesake  The (2006)                                                581  \n",
       "Bhaji on the Beach (1993)                                           396  \n",
       "PK (2014)                                                           392  \n",
       "...                                                                 ...  \n",
       "Matrubhoomi (2003)                                                    1  \n",
       "Meri Pyaari Bindu (2017)                                              1  \n",
       "Mirch (2010)                                                          1  \n",
       "Mr. X (2015)                                                          1  \n",
       "road (2002)                                                           1  \n",
       "\n",
       "[779 rows x 2 columns]"
      ]
     },
     "execution_count": 43,
     "metadata": {},
     "output_type": "execute_result"
    }
   ],
   "source": [
    "movie_rating.sort_values(by=\"num of people rated\",ascending=False)"
   ]
  },
  {
   "cell_type": "code",
   "execution_count": 44,
   "metadata": {},
   "outputs": [
    {
     "data": {
      "image/png": "[encoded data removed]",
      "text/plain": [
       "<Figure size 864x432 with 1 Axes>"
      ]
     },
     "metadata": {
      "needs_background": "light"
     },
     "output_type": "display_data"
    }
   ],
   "source": [
    "plt.figure(figsize=(12,6))\n",
    "plt.hist(ratings['num of people rated'],bins=80)\n",
    "plt.show()\n",
    "# xais = no of rating y = no of ratings apper"
   ]
  },
  {
   "cell_type": "code",
   "execution_count": 45,
   "metadata": {},
   "outputs": [
    {
     "data": {
      "image/png": "[encoded data removed]",
      "text/plain": [
       "<Figure size 864x432 with 1 Axes>"
      ]
     },
     "metadata": {
      "needs_background": "light"
     },
     "output_type": "display_data"
    }
   ],
   "source": [
    "plt.figure(figsize=(12,6))\n",
    "plt.hist(ratings['rating'],bins=80)\n",
    "plt.show()"
   ]
  },
  {
   "cell_type": "markdown",
   "metadata": {},
   "source": [
    "### seaborn used for better visualization\n",
    "### y axis is num of people rated the movie and on x axis each movie get rated"
   ]
  },
  {
   "cell_type": "code",
   "execution_count": 48,
   "metadata": {},
   "outputs": [
    {
     "data": {
      "text/plain": [
       "<seaborn.axisgrid.JointGrid at 0x2d4fbf03670>"
      ]
     },
     "execution_count": 48,
     "metadata": {},
     "output_type": "execute_result"
    },
    {
     "data": {
      "image/png": "[encoded data removed]",
      "text/plain": [
       "<Figure size 432x432 with 3 Axes>"
      ]
     },
     "metadata": {
      "needs_background": "light"
     },
     "output_type": "display_data"
    }
   ],
   "source": [
    "sns.jointplot(x='rating' ,y='num of people rated' , data= ratings, alpha=1)"
   ]
  },
  {
   "cell_type": "markdown",
   "metadata": {},
   "source": [
    "## Making of movie recommendation system"
   ]
  },
  {
   "cell_type": "markdown",
   "metadata": {},
   "source": [
    "### Making Matrix of user vs movie title  in which ratigs connect them"
   ]
  },
  {
   "cell_type": "code",
   "execution_count": 49,
   "metadata": {},
   "outputs": [],
   "source": [
    "movie_matrix=df.pivot_table(index=\"user_id\",columns=\"title\", values =\"rating\",dropna=True)"
   ]
  },
  {
   "cell_type": "code",
   "execution_count": null,
   "metadata": {},
   "outputs": [],
   "source": [
    "movie_matrix.head()"
   ]
  },
  {
   "cell_type": "code",
   "execution_count": 51,
   "metadata": {},
   "outputs": [
    {
     "data": {
      "text/html": [
       "<div>\n",
       "<style scoped>\n",
       "    .dataframe tbody tr th:only-of-type {\n",
       "        vertical-align: middle;\n",
       "    }\n",
       "\n",
       "    .dataframe tbody tr th {\n",
       "        vertical-align: top;\n",
       "    }\n",
       "\n",
       "    .dataframe thead th {\n",
       "        text-align: right;\n",
       "    }\n",
       "</style>\n",
       "<table border=\"1\" class=\"dataframe\">\n",
       "  <thead>\n",
       "    <tr style=\"text-align: right;\">\n",
       "      <th></th>\n",
       "      <th>rating</th>\n",
       "      <th>num of people rated</th>\n",
       "    </tr>\n",
       "    <tr>\n",
       "      <th>title</th>\n",
       "      <th></th>\n",
       "      <th></th>\n",
       "    </tr>\n",
       "  </thead>\n",
       "  <tbody>\n",
       "    <tr>\n",
       "      <th>3 Idiots (2009)</th>\n",
       "      <td>3.928623</td>\n",
       "      <td>1394</td>\n",
       "    </tr>\n",
       "    <tr>\n",
       "      <th>Children of Heaven  The (Bacheha-Ye Aseman) (1997)</th>\n",
       "      <td>3.991667</td>\n",
       "      <td>900</td>\n",
       "    </tr>\n",
       "    <tr>\n",
       "      <th>Namesake  The (2006)</th>\n",
       "      <td>3.700516</td>\n",
       "      <td>581</td>\n",
       "    </tr>\n",
       "    <tr>\n",
       "      <th>Bhaji on the Beach (1993)</th>\n",
       "      <td>3.553030</td>\n",
       "      <td>396</td>\n",
       "    </tr>\n",
       "    <tr>\n",
       "      <th>PK (2014)</th>\n",
       "      <td>3.762755</td>\n",
       "      <td>392</td>\n",
       "    </tr>\n",
       "  </tbody>\n",
       "</table>\n",
       "</div>"
      ],
      "text/plain": [
       "                                                      rating  \\\n",
       "title                                                          \n",
       "3 Idiots (2009)                                     3.928623   \n",
       "Children of Heaven  The (Bacheha-Ye Aseman) (1997)  3.991667   \n",
       "Namesake  The (2006)                                3.700516   \n",
       "Bhaji on the Beach (1993)                           3.553030   \n",
       "PK (2014)                                           3.762755   \n",
       "\n",
       "                                                    num of people rated  \n",
       "title                                                                    \n",
       "3 Idiots (2009)                                                    1394  \n",
       "Children of Heaven  The (Bacheha-Ye Aseman) (1997)                  900  \n",
       "Namesake  The (2006)                                                581  \n",
       "Bhaji on the Beach (1993)                                           396  \n",
       "PK (2014)                                                           392  "
      ]
     },
     "execution_count": 51,
     "metadata": {},
     "output_type": "execute_result"
    }
   ],
   "source": [
    "movie_rating.sort_values(by=\"num of people rated\",ascending=False).head()"
   ]
  },
  {
   "cell_type": "markdown",
   "metadata": {},
   "source": [
    "## Checking or building one example"
   ]
  },
  {
   "cell_type": "markdown",
   "metadata": {},
   "source": [
    "##### Firist I am serching a movie name in the moviemat matrix then storing its all review in the khaani. "
   ]
  },
  {
   "cell_type": "code",
   "execution_count": 52,
   "metadata": {},
   "outputs": [
    {
     "data": {
      "text/plain": [
       "user_id\n",
       "172    NaN\n",
       "176    4.0\n",
       "221    NaN\n",
       "333    NaN\n",
       "339    NaN\n",
       "422    5.0\n",
       "505    4.0\n",
       "516    4.0\n",
       "537    NaN\n",
       "540    NaN\n",
       "Name: 3 Idiots (2009), dtype: float64"
      ]
     },
     "execution_count": 52,
     "metadata": {},
     "output_type": "execute_result"
    }
   ],
   "source": [
    "idiots=movie_matrix[\"3 Idiots (2009)\"]\n",
    "idiots.head(10)"
   ]
  },
  {
   "cell_type": "markdown",
   "metadata": {},
   "source": [
    "##### Now  I am serching all the movie which are correlated with khaani on the basis of rating.\n",
    "##### Now i am droping the NaN values from  data frame"
   ]
  },
  {
   "cell_type": "code",
   "execution_count": 55,
   "metadata": {},
   "outputs": [
    {
     "name": "stdout",
     "output_type": "stream",
     "text": [
      "title\n",
      "1920 (2008)                        0.397467\n",
      "1920: Evil Returns (2012)          1.000000\n",
      "1942: A Love Story (1994)         -0.727607\n",
      "2 States (2014)                    0.466137\n",
      "3 Idiots (2009)                    1.000000\n",
      "                                     ...   \n",
      "Zakhm (1998)                      -1.000000\n",
      "Zameen (2003)                      0.511891\n",
      "Zanjeer (1973)                     0.222222\n",
      "Zeher (2005)                       1.000000\n",
      "Zindagi Na Milegi Dobara (2011)    0.463296\n",
      "Length: 576, dtype: float64\n"
     ]
    }
   ],
   "source": [
    "similar_to_idiots=movie_matrix.corrwith(idiots)\n",
    "similar_to_idiots.dropna(inplace=True)\n",
    "print(similar_to_idiots)"
   ]
  },
  {
   "cell_type": "markdown",
   "metadata": {},
   "source": [
    "##### Now i am changing the correlation table to a data frame"
   ]
  },
  {
   "cell_type": "code",
   "execution_count": 56,
   "metadata": {},
   "outputs": [
    {
     "data": {
      "text/html": [
       "<div>\n",
       "<style scoped>\n",
       "    .dataframe tbody tr th:only-of-type {\n",
       "        vertical-align: middle;\n",
       "    }\n",
       "\n",
       "    .dataframe tbody tr th {\n",
       "        vertical-align: top;\n",
       "    }\n",
       "\n",
       "    .dataframe thead th {\n",
       "        text-align: right;\n",
       "    }\n",
       "</style>\n",
       "<table border=\"1\" class=\"dataframe\">\n",
       "  <thead>\n",
       "    <tr style=\"text-align: right;\">\n",
       "      <th></th>\n",
       "      <th>correlation</th>\n",
       "    </tr>\n",
       "    <tr>\n",
       "      <th>title</th>\n",
       "      <th></th>\n",
       "    </tr>\n",
       "  </thead>\n",
       "  <tbody>\n",
       "    <tr>\n",
       "      <th>1920 (2008)</th>\n",
       "      <td>0.397467</td>\n",
       "    </tr>\n",
       "    <tr>\n",
       "      <th>1920: Evil Returns (2012)</th>\n",
       "      <td>1.000000</td>\n",
       "    </tr>\n",
       "    <tr>\n",
       "      <th>1942: A Love Story (1994)</th>\n",
       "      <td>-0.727607</td>\n",
       "    </tr>\n",
       "    <tr>\n",
       "      <th>2 States (2014)</th>\n",
       "      <td>0.466137</td>\n",
       "    </tr>\n",
       "    <tr>\n",
       "      <th>3 Idiots (2009)</th>\n",
       "      <td>1.000000</td>\n",
       "    </tr>\n",
       "  </tbody>\n",
       "</table>\n",
       "</div>"
      ],
      "text/plain": [
       "                           correlation\n",
       "title                                 \n",
       "1920 (2008)                   0.397467\n",
       "1920: Evil Returns (2012)     1.000000\n",
       "1942: A Love Story (1994)    -0.727607\n",
       "2 States (2014)               0.466137\n",
       "3 Idiots (2009)               1.000000"
      ]
     },
     "execution_count": 56,
     "metadata": {},
     "output_type": "execute_result"
    }
   ],
   "source": [
    "cor_idiots=pd.DataFrame(similar_to_idiots,columns=['correlation'])\n",
    "cor_idiots.head()"
   ]
  },
  {
   "cell_type": "markdown",
   "metadata": {},
   "source": [
    "##### shorting the row in descending order"
   ]
  },
  {
   "cell_type": "code",
   "execution_count": 57,
   "metadata": {
    "scrolled": true
   },
   "outputs": [
    {
     "data": {
      "text/html": [
       "<div>\n",
       "<style scoped>\n",
       "    .dataframe tbody tr th:only-of-type {\n",
       "        vertical-align: middle;\n",
       "    }\n",
       "\n",
       "    .dataframe tbody tr th {\n",
       "        vertical-align: top;\n",
       "    }\n",
       "\n",
       "    .dataframe thead th {\n",
       "        text-align: right;\n",
       "    }\n",
       "</style>\n",
       "<table border=\"1\" class=\"dataframe\">\n",
       "  <thead>\n",
       "    <tr style=\"text-align: right;\">\n",
       "      <th></th>\n",
       "      <th>correlation</th>\n",
       "    </tr>\n",
       "    <tr>\n",
       "      <th>title</th>\n",
       "      <th></th>\n",
       "    </tr>\n",
       "  </thead>\n",
       "  <tbody>\n",
       "    <tr>\n",
       "      <th>Sehar (2005)</th>\n",
       "      <td>1.0</td>\n",
       "    </tr>\n",
       "    <tr>\n",
       "      <th>Angry Indian Goddesses (2015)</th>\n",
       "      <td>1.0</td>\n",
       "    </tr>\n",
       "    <tr>\n",
       "      <th>MP3: Mera Pehla Pehla Pyaar (2007)</th>\n",
       "      <td>1.0</td>\n",
       "    </tr>\n",
       "    <tr>\n",
       "      <th>Chameli Ki Shaadi (1986)</th>\n",
       "      <td>1.0</td>\n",
       "    </tr>\n",
       "    <tr>\n",
       "      <th>Mahakaal (The Monster) (1993)</th>\n",
       "      <td>1.0</td>\n",
       "    </tr>\n",
       "    <tr>\n",
       "      <th>Corporate (2006)</th>\n",
       "      <td>1.0</td>\n",
       "    </tr>\n",
       "    <tr>\n",
       "      <th>Main Tera Hero (2014)</th>\n",
       "      <td>1.0</td>\n",
       "    </tr>\n",
       "    <tr>\n",
       "      <th>Pyaar Koi Khel Nahin (1999)</th>\n",
       "      <td>1.0</td>\n",
       "    </tr>\n",
       "    <tr>\n",
       "      <th>Karzzzz (2008)</th>\n",
       "      <td>1.0</td>\n",
       "    </tr>\n",
       "    <tr>\n",
       "      <th>Deewane (2000)</th>\n",
       "      <td>1.0</td>\n",
       "    </tr>\n",
       "  </tbody>\n",
       "</table>\n",
       "</div>"
      ],
      "text/plain": [
       "                                    correlation\n",
       "title                                          \n",
       "Sehar (2005)                                1.0\n",
       "Angry Indian Goddesses (2015)               1.0\n",
       "MP3: Mera Pehla Pehla Pyaar (2007)          1.0\n",
       "Chameli Ki Shaadi (1986)                    1.0\n",
       "Mahakaal (The Monster) (1993)               1.0\n",
       "Corporate (2006)                            1.0\n",
       "Main Tera Hero (2014)                       1.0\n",
       "Pyaar Koi Khel Nahin (1999)                 1.0\n",
       "Karzzzz (2008)                              1.0\n",
       "Deewane (2000)                              1.0"
      ]
     },
     "execution_count": 57,
     "metadata": {},
     "output_type": "execute_result"
    }
   ],
   "source": [
    "cor_idiots.sort_values('correlation',ascending=False).head(10)"
   ]
  },
  {
   "cell_type": "markdown",
   "metadata": {},
   "source": [
    "##### I am addding num of rating in the correlation."
   ]
  },
  {
   "cell_type": "code",
   "execution_count": 59,
   "metadata": {},
   "outputs": [
    {
     "data": {
      "text/html": [
       "<div>\n",
       "<style scoped>\n",
       "    .dataframe tbody tr th:only-of-type {\n",
       "        vertical-align: middle;\n",
       "    }\n",
       "\n",
       "    .dataframe tbody tr th {\n",
       "        vertical-align: top;\n",
       "    }\n",
       "\n",
       "    .dataframe thead th {\n",
       "        text-align: right;\n",
       "    }\n",
       "</style>\n",
       "<table border=\"1\" class=\"dataframe\">\n",
       "  <thead>\n",
       "    <tr style=\"text-align: right;\">\n",
       "      <th></th>\n",
       "      <th>correlation</th>\n",
       "      <th>num of people rated</th>\n",
       "    </tr>\n",
       "    <tr>\n",
       "      <th>title</th>\n",
       "      <th></th>\n",
       "      <th></th>\n",
       "    </tr>\n",
       "  </thead>\n",
       "  <tbody>\n",
       "    <tr>\n",
       "      <th>1920 (2008)</th>\n",
       "      <td>0.397467</td>\n",
       "      <td>10</td>\n",
       "    </tr>\n",
       "    <tr>\n",
       "      <th>1920: Evil Returns (2012)</th>\n",
       "      <td>1.000000</td>\n",
       "      <td>5</td>\n",
       "    </tr>\n",
       "    <tr>\n",
       "      <th>1942: A Love Story (1994)</th>\n",
       "      <td>-0.727607</td>\n",
       "      <td>5</td>\n",
       "    </tr>\n",
       "    <tr>\n",
       "      <th>2 States (2014)</th>\n",
       "      <td>0.466137</td>\n",
       "      <td>16</td>\n",
       "    </tr>\n",
       "    <tr>\n",
       "      <th>3 Idiots (2009)</th>\n",
       "      <td>1.000000</td>\n",
       "      <td>1394</td>\n",
       "    </tr>\n",
       "  </tbody>\n",
       "</table>\n",
       "</div>"
      ],
      "text/plain": [
       "                           correlation  num of people rated\n",
       "title                                                      \n",
       "1920 (2008)                   0.397467                   10\n",
       "1920: Evil Returns (2012)     1.000000                    5\n",
       "1942: A Love Story (1994)    -0.727607                    5\n",
       "2 States (2014)               0.466137                   16\n",
       "3 Idiots (2009)               1.000000                 1394"
      ]
     },
     "execution_count": 59,
     "metadata": {},
     "output_type": "execute_result"
    }
   ],
   "source": [
    "cor_idiots=cor_idiots.join(ratings['num of people rated'])\n",
    "cor_idiots.head()"
   ]
  },
  {
   "cell_type": "markdown",
   "metadata": {},
   "source": [
    "###### Here we are getting all the correlation with khani which have rated more than  30  people"
   ]
  },
  {
   "cell_type": "code",
   "execution_count": 63,
   "metadata": {},
   "outputs": [
    {
     "data": {
      "text/html": [
       "<div>\n",
       "<style scoped>\n",
       "    .dataframe tbody tr th:only-of-type {\n",
       "        vertical-align: middle;\n",
       "    }\n",
       "\n",
       "    .dataframe tbody tr th {\n",
       "        vertical-align: top;\n",
       "    }\n",
       "\n",
       "    .dataframe thead th {\n",
       "        text-align: right;\n",
       "    }\n",
       "</style>\n",
       "<table border=\"1\" class=\"dataframe\">\n",
       "  <thead>\n",
       "    <tr style=\"text-align: right;\">\n",
       "      <th></th>\n",
       "      <th>correlation</th>\n",
       "      <th>num of people rated</th>\n",
       "    </tr>\n",
       "    <tr>\n",
       "      <th>title</th>\n",
       "      <th></th>\n",
       "      <th></th>\n",
       "    </tr>\n",
       "  </thead>\n",
       "  <tbody>\n",
       "    <tr>\n",
       "      <th>3 Idiots (2009)</th>\n",
       "      <td>1.000000</td>\n",
       "      <td>1394</td>\n",
       "    </tr>\n",
       "    <tr>\n",
       "      <th>Drishyam (2015)</th>\n",
       "      <td>0.853069</td>\n",
       "      <td>68</td>\n",
       "    </tr>\n",
       "    <tr>\n",
       "      <th>Baby (2015)</th>\n",
       "      <td>0.750492</td>\n",
       "      <td>58</td>\n",
       "    </tr>\n",
       "    <tr>\n",
       "      <th>Airlift (2016)</th>\n",
       "      <td>0.697758</td>\n",
       "      <td>64</td>\n",
       "    </tr>\n",
       "    <tr>\n",
       "      <th>OMG Oh My God! (2012)</th>\n",
       "      <td>0.694439</td>\n",
       "      <td>81</td>\n",
       "    </tr>\n",
       "    <tr>\n",
       "      <th>...</th>\n",
       "      <td>...</td>\n",
       "      <td>...</td>\n",
       "    </tr>\n",
       "    <tr>\n",
       "      <th>Fire (1996)</th>\n",
       "      <td>0.173461</td>\n",
       "      <td>152</td>\n",
       "    </tr>\n",
       "    <tr>\n",
       "      <th>Something Is Happening (Kuch Kuch Hota Hai) (1998)</th>\n",
       "      <td>0.161331</td>\n",
       "      <td>100</td>\n",
       "    </tr>\n",
       "    <tr>\n",
       "      <th>Vicky Donor (2012)</th>\n",
       "      <td>0.159965</td>\n",
       "      <td>64</td>\n",
       "    </tr>\n",
       "    <tr>\n",
       "      <th>D.C.H. (Dil Chahta Hai) (2001)</th>\n",
       "      <td>-0.004946</td>\n",
       "      <td>120</td>\n",
       "    </tr>\n",
       "    <tr>\n",
       "      <th>Parineeta (2005)</th>\n",
       "      <td>-0.045844</td>\n",
       "      <td>54</td>\n",
       "    </tr>\n",
       "  </tbody>\n",
       "</table>\n",
       "<p>64 rows × 2 columns</p>\n",
       "</div>"
      ],
      "text/plain": [
       "                                                    correlation  \\\n",
       "title                                                             \n",
       "3 Idiots (2009)                                        1.000000   \n",
       "Drishyam (2015)                                        0.853069   \n",
       "Baby (2015)                                            0.750492   \n",
       "Airlift (2016)                                         0.697758   \n",
       "OMG Oh My God! (2012)                                  0.694439   \n",
       "...                                                         ...   \n",
       "Fire (1996)                                            0.173461   \n",
       "Something Is Happening (Kuch Kuch Hota Hai) (1998)     0.161331   \n",
       "Vicky Donor (2012)                                     0.159965   \n",
       "D.C.H. (Dil Chahta Hai) (2001)                        -0.004946   \n",
       "Parineeta (2005)                                      -0.045844   \n",
       "\n",
       "                                                    num of people rated  \n",
       "title                                                                    \n",
       "3 Idiots (2009)                                                    1394  \n",
       "Drishyam (2015)                                                      68  \n",
       "Baby (2015)                                                          58  \n",
       "Airlift (2016)                                                       64  \n",
       "OMG Oh My God! (2012)                                                81  \n",
       "...                                                                 ...  \n",
       "Fire (1996)                                                         152  \n",
       "Something Is Happening (Kuch Kuch Hota Hai) (1998)                  100  \n",
       "Vicky Donor (2012)                                                   64  \n",
       "D.C.H. (Dil Chahta Hai) (2001)                                      120  \n",
       "Parineeta (2005)                                                     54  \n",
       "\n",
       "[64 rows x 2 columns]"
      ]
     },
     "execution_count": 63,
     "metadata": {},
     "output_type": "execute_result"
    }
   ],
   "source": [
    "cor_idiots[cor_idiots['num of people rated']>50].sort_values('correlation',ascending=False)"
   ]
  },
  {
   "cell_type": "markdown",
   "metadata": {},
   "source": [
    "### **Here I am making funcation which can do the all operation in the**"
   ]
  },
  {
   "cell_type": "code",
   "execution_count": 72,
   "metadata": {},
   "outputs": [],
   "source": [
    "def predict_movies(movie_name):\n",
    "    movie_user_rating=movie_matrix[movie_name]\n",
    "    similar_to_movie=movie_matrix.corrwith(movie_user_rating)\n",
    "    \n",
    "    corr_movie=pd.DataFrame(similar_to_movie,columns=[\"Correlation\"])\n",
    "    corr_movie.dropna(inplace=True)\n",
    "    \n",
    "    corr_movie=corr_movie.join(movie_rating['num of people rated'])\n",
    "    prediction=pd.DataFrame(corr_movie[corr_movie['num of people rated']>50].sort_values('Correlation',ascending=False))\n",
    "       \n",
    "    \n",
    "    return prediction.head(11)"
   ]
  },
  {
   "cell_type": "markdown",
   "metadata": {},
   "source": [
    "#### Checking a example"
   ]
  },
  {
   "cell_type": "code",
   "execution_count": 73,
   "metadata": {},
   "outputs": [
    {
     "name": "stderr",
     "output_type": "stream",
     "text": [
      "C:\\Users\\ravis\\anaconda3\\lib\\site-packages\\numpy\\lib\\function_base.py:2551: RuntimeWarning: Degrees of freedom <= 0 for slice\n",
      "  c = cov(x, y, rowvar)\n",
      "C:\\Users\\ravis\\anaconda3\\lib\\site-packages\\numpy\\lib\\function_base.py:2480: RuntimeWarning: divide by zero encountered in true_divide\n",
      "  c *= np.true_divide(1, fact)\n"
     ]
    },
    {
     "data": {
      "text/html": [
       "<div>\n",
       "<style scoped>\n",
       "    .dataframe tbody tr th:only-of-type {\n",
       "        vertical-align: middle;\n",
       "    }\n",
       "\n",
       "    .dataframe tbody tr th {\n",
       "        vertical-align: top;\n",
       "    }\n",
       "\n",
       "    .dataframe thead th {\n",
       "        text-align: right;\n",
       "    }\n",
       "</style>\n",
       "<table border=\"1\" class=\"dataframe\">\n",
       "  <thead>\n",
       "    <tr style=\"text-align: right;\">\n",
       "      <th></th>\n",
       "      <th>Correlation</th>\n",
       "      <th>num of people rated</th>\n",
       "    </tr>\n",
       "    <tr>\n",
       "      <th>title</th>\n",
       "      <th></th>\n",
       "      <th></th>\n",
       "    </tr>\n",
       "  </thead>\n",
       "  <tbody>\n",
       "    <tr>\n",
       "      <th>Wanted (2009)</th>\n",
       "      <td>1.000000</td>\n",
       "      <td>187</td>\n",
       "    </tr>\n",
       "    <tr>\n",
       "      <th>Band Baaja Baaraat (2010)</th>\n",
       "      <td>0.761881</td>\n",
       "      <td>74</td>\n",
       "    </tr>\n",
       "    <tr>\n",
       "      <th>My Name is Khan (2010)</th>\n",
       "      <td>0.730017</td>\n",
       "      <td>295</td>\n",
       "    </tr>\n",
       "    <tr>\n",
       "      <th>Chennai Express (2013)</th>\n",
       "      <td>0.726333</td>\n",
       "      <td>66</td>\n",
       "    </tr>\n",
       "    <tr>\n",
       "      <th>OMG Oh My God! (2012)</th>\n",
       "      <td>0.725176</td>\n",
       "      <td>81</td>\n",
       "    </tr>\n",
       "  </tbody>\n",
       "</table>\n",
       "</div>"
      ],
      "text/plain": [
       "                           Correlation  num of people rated\n",
       "title                                                      \n",
       "Wanted (2009)                 1.000000                  187\n",
       "Band Baaja Baaraat (2010)     0.761881                   74\n",
       "My Name is Khan (2010)        0.730017                  295\n",
       "Chennai Express (2013)        0.726333                   66\n",
       "OMG Oh My God! (2012)         0.725176                   81"
      ]
     },
     "execution_count": 73,
     "metadata": {},
     "output_type": "execute_result"
    }
   ],
   "source": [
    "prediction=predict_movies(\"Wanted (2009)\")\n",
    "prediction.head()"
   ]
  },
  {
   "cell_type": "markdown",
   "metadata": {},
   "source": [
    "##  <span style=\"color:red\">**Making a Gui Application**</span>"
   ]
  },
  {
   "cell_type": "code",
   "execution_count": 74,
   "metadata": {},
   "outputs": [],
   "source": [
    "root=tk.Tk()\n",
    "name_of_movie=tk.StringVar()"
   ]
  },
  {
   "cell_type": "markdown",
   "metadata": {},
   "source": [
    "### Here we are creating a window when user press submit button"
   ]
  },
  {
   "cell_type": "code",
   "execution_count": 75,
   "metadata": {},
   "outputs": [],
   "source": [
    "def submit():\n",
    "    name=name_of_movie.get()\n",
    "    root1=tk.Tk()\n",
    "    root1.title(\"MOVIE RECOMDATE\")\n",
    "    big_frame=tk.Frame(root1)\n",
    "    big_frame.pack(fill='both', expand=True)\n",
    "    \n",
    "    lis=tk.Message(big_frame,text=predict_movies(name),font=(\"Comic Sans MS\",10,\"bold\"),bg=\"orange\",fg=\"red\")\n",
    "    \n",
    "    lis.pack(side=\"top\",fill='both', expand=True)\n",
    "    print(pd.DataFrame(predict_movies(name)))\n",
    "    root1.geometry('500x500')\n",
    "    \n",
    "    root1.mainloop()\n",
    "    name_of_movie.set(\"\")"
   ]
  },
  {
   "cell_type": "markdown",
   "metadata": {},
   "source": [
    "### Here we are designing the primary window"
   ]
  },
  {
   "cell_type": "code",
   "execution_count": 76,
   "metadata": {},
   "outputs": [],
   "source": [
    "name_label=tk.Label(root,text=\"Enter Movie Name\",font=(\"Comic Sans MS\",12,\"bold\"),bg=\"blue2\")\n",
    "name_entry=tk.Entry(root,textvariable=name_of_movie,font=(\"calibre\",10,\"bold\"))\n",
    "sub_btn=tk.Button(root,text = 'Submit', command = submit,bg=\"red\",fg=\"yellow\")\n"
   ]
  },
  {
   "cell_type": "code",
   "execution_count": 77,
   "metadata": {},
   "outputs": [],
   "source": [
    "name_label.grid(row=0,column=1)\n",
    "name_entry.grid(row=0,column=2)\n",
    "sub_btn.grid(row=3,column=2)"
   ]
  },
  {
   "cell_type": "markdown",
   "metadata": {},
   "source": [
    "### Result will be displaying on console as well as on window."
   ]
  },
  {
   "cell_type": "code",
   "execution_count": 78,
   "metadata": {},
   "outputs": [
    {
     "name": "stderr",
     "output_type": "stream",
     "text": [
      "C:\\Users\\ravis\\anaconda3\\lib\\site-packages\\numpy\\lib\\function_base.py:2551: RuntimeWarning: Degrees of freedom <= 0 for slice\n",
      "  c = cov(x, y, rowvar)\n",
      "C:\\Users\\ravis\\anaconda3\\lib\\site-packages\\numpy\\lib\\function_base.py:2480: RuntimeWarning: divide by zero encountered in true_divide\n",
      "  c *= np.true_divide(1, fact)\n",
      "C:\\Users\\ravis\\anaconda3\\lib\\site-packages\\numpy\\lib\\function_base.py:2551: RuntimeWarning: Degrees of freedom <= 0 for slice\n",
      "  c = cov(x, y, rowvar)\n",
      "C:\\Users\\ravis\\anaconda3\\lib\\site-packages\\numpy\\lib\\function_base.py:2480: RuntimeWarning: divide by zero encountered in true_divide\n",
      "  c *= np.true_divide(1, fact)\n"
     ]
    },
    {
     "name": "stdout",
     "output_type": "stream",
     "text": [
      "                                                    Correlation  \\\n",
      "title                                                             \n",
      "Bandit Queen (1994)                                    1.000000   \n",
      "Drishyam (2015)                                        1.000000   \n",
      "3 Idiots (2009)                                        0.853069   \n",
      "Marriage Made in Heaven  A (Rab Ne Bana Di Jodi...     0.852726   \n",
      "Baby (2015)                                            0.844868   \n",
      "Paint It Yellow (Rang De Basanti) (2006)               0.814139   \n",
      "Ghajini (2008)                                         0.811422   \n",
      "Don 2 (2011)                                           0.808574   \n",
      "Children of Heaven  The (Bacheha-Ye Aseman) (1997)     0.806159   \n",
      "Like Stars on Earth (Taare Zameen Par) (2007)          0.800834   \n",
      "Kahaani (2012)                                         0.784924   \n",
      "\n",
      "                                                    num of people rated  \n",
      "title                                                                    \n",
      "Bandit Queen (1994)                                                 385  \n",
      "Drishyam (2015)                                                      68  \n",
      "3 Idiots (2009)                                                    1394  \n",
      "Marriage Made in Heaven  A (Rab Ne Bana Di Jodi...                   79  \n",
      "Baby (2015)                                                          58  \n",
      "Paint It Yellow (Rang De Basanti) (2006)                            231  \n",
      "Ghajini (2008)                                                      132  \n",
      "Don 2 (2011)                                                         55  \n",
      "Children of Heaven  The (Bacheha-Ye Aseman) (1997)                  900  \n",
      "Like Stars on Earth (Taare Zameen Par) (2007)                       316  \n",
      "Kahaani (2012)                                                      224  \n"
     ]
    }
   ],
   "source": [
    "root.title(\"MOVIE RECOMDATION \")\n",
    "root.configure(bg=\"green2\")\n",
    "root.geometry('600x300')\n",
    "root.mainloop()"
   ]
  },
  {
   "cell_type": "markdown",
   "metadata": {},
   "source": []
  },
  {
   "cell_type": "code",
   "execution_count": null,
   "metadata": {},
   "outputs": [],
   "source": []
  }
 ],
 "metadata": {
  "kernelspec": {
   "display_name": "Python 3",
   "language": "python",
   "name": "python3"
  },
  "language_info": {
   "codemirror_mode": {
    "name": "ipython",
    "version": 3
   },
   "file_extension": ".py",
   "mimetype": "text/x-python",
   "name": "python",
   "nbconvert_exporter": "python",
   "pygments_lexer": "ipython3",
   "version": "3.8.5"
  }
 },
 "nbformat": 4,
 "nbformat_minor": 5
}
